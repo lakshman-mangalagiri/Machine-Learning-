{
  "nbformat": 4,
  "nbformat_minor": 0,
  "metadata": {
    "colab": {
      "provenance": []
    },
    "kernelspec": {
      "name": "python3",
      "display_name": "Python 3"
    },
    "language_info": {
      "name": "python"
    }
  },
  "cells": [
    {
      "cell_type": "code",
      "source": [
        "import pandas as pd\n",
        "from collections import Counter\n",
        "import math"
      ],
      "metadata": {
        "id": "Po0zTuIJE9VO"
      },
      "execution_count": 22,
      "outputs": []
    },
    {
      "cell_type": "code",
      "source": [
        "import pandas as pd\n",
        "def load_data():\n",
        "    dt= pd.read_csv('/content/enjoysports.csv')\n",
        "    return pd.DataFrame(dt)\n",
        "    data.columns =['Sky','AirTemp','Humidity','Wind','Water','Forecast','EnjoySport']\n",
        "df= load_data()\n",
        "print(df)"
      ],
      "metadata": {
        "id": "pXJ9dZ07MHIl",
        "colab": {
          "base_uri": "https://localhost:8080/"
        },
        "outputId": "187c31b4-978b-44ad-9606-efdd8f7217b4"
      },
      "execution_count": 23,
      "outputs": [
        {
          "output_type": "stream",
          "name": "stdout",
          "text": [
            "     sky airtemp humidity    wind water forcast enjoysport\n",
            "0  sunny    warm   normal  strong  warm    same        yes\n",
            "1  sunny    warm     high  strong  warm    same        yes\n",
            "2  rainy    cold     high  strong  warm  change         no\n",
            "3  sunny    warm     high  strong  cool  change        yes\n"
          ]
        }
      ]
    },
    {
      "cell_type": "code",
      "source": [
        "def entropy_val(data):\n",
        "    caluclate_c =Counter(data['enjoysport'])\n",
        "    total_sample =len(data)\n",
        "    entropy =0\n",
        "    for count in caluclate_c.values():\n",
        "        probability =count /total_sample\n",
        "        entropy -=probability*(math.log2(probability))\n",
        "    return entropy\n",
        "\n",
        "\n",
        "def information_g(data, attribute):\n",
        "    \"\"\"Calculates the IG value of given attribute.\"\"\"\n",
        "    unique_values =data[attribute].unique()\n",
        "    P_entropy = entropy_val(data)\n",
        "    W_entropy =0\n",
        "    for value in unique_values:\n",
        "        subset =data[data[attribute] ==value]\n",
        "        subset_entropy =entropy_val(subset)\n",
        "        W_entropy +=(len(subset)/len(data))*subset_entropy\n",
        "    i_g=P_entropy-W_entropy\n",
        "    return i_g\n",
        "\n",
        "\n",
        "def decision_tree(data):\n",
        "    \"\"\"Creates the decision tree.\"\"\"\n",
        "    if len(data['enjoysport'].unique()) ==1:\n",
        "        return data['enjoysport'].iloc[0]\n",
        "    if len(data) ==0:\n",
        "        return None\n",
        "    if len(data.columns) ==1:\n",
        "        return Counter(data['enjoysport']).more_common()[0][0]\n",
        "    best_attribute =max(data.columns[:-1],key=lambda attr:information_g(data,attr))\n",
        "    tree ={best_attribute: {}}\n",
        "    for value in data[best_attribute].unique():\n",
        "        subset =data[data[best_attribute] ==value]\n",
        "        subtree =decision_tree(subset)\n",
        "        tree[best_attribute][value] =subtree\n",
        "    return tree\n",
        "\n",
        "\n",
        "\n",
        "data =load_data()\n",
        "tree=decision_tree(data)\n",
        "print(tree)"
      ],
      "metadata": {
        "id": "1oZNV8kqMHSG",
        "colab": {
          "base_uri": "https://localhost:8080/"
        },
        "outputId": "885ebcd0-6259-4521-ecb0-d64a5065fc1f"
      },
      "execution_count": 29,
      "outputs": [
        {
          "output_type": "stream",
          "name": "stdout",
          "text": [
            "{'sky': {'sunny': 'yes', 'rainy': 'no'}}\n"
          ]
        }
      ]
    }
  ]
}