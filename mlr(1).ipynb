{
  "nbformat": 4,
  "nbformat_minor": 0,
  "metadata": {
    "colab": {
      "provenance": []
    },
    "kernelspec": {
      "name": "python3",
      "display_name": "Python 3"
    },
    "language_info": {
      "name": "python"
    }
  },
  "cells": [
    {
      "cell_type": "code",
      "execution_count": 3,
      "metadata": {
        "colab": {
          "base_uri": "https://localhost:8080/"
        },
        "id": "DMGCYruSD9mW",
        "outputId": "cc3756f8-0dbd-474e-b0aa-367658b7afec"
      },
      "outputs": [
        {
          "output_type": "stream",
          "name": "stdout",
          "text": [
            "Single Linear Regression: 0.9265108109341951\n",
            "Multiple Linear Regression: 0.8987266414328637\n"
          ]
        }
      ],
      "source": [
        "import pandas as pd\n",
        "from sklearn.model_selection import train_test_split\n",
        "from sklearn.linear_model import LinearRegression\n",
        "from sklearn.metrics import r2_score\n",
        "\n",
        "# Fix the typo in the filename\n",
        "data = pd.read_csv('/content/50_Startups.csv')\n",
        "\n",
        "X = data[['R&D Spend', 'Administration', 'Marketing Spend', 'State']]\n",
        "y = data['Profit']\n",
        "\n",
        "X = pd.get_dummies(X, columns=['State'], drop_first=True)\n",
        "\n",
        "X_train, X_test, y_train, y_test = train_test_split(X, y, test_size=0.2, random_state=42)\n",
        "X_train_single = X_train[['R&D Spend']]\n",
        "\n",
        "X_test_single = X_test[['R&D Spend']]\n",
        "model_single = LinearRegression()\n",
        "model_single.fit(X_train_single, y_train)\n",
        "y_pred_single = model_single.predict(X_test_single)\n",
        "r2_single = r2_score(y_test, y_pred_single)\n",
        "print(f\"Single Linear Regression: {r2_single}\")\n",
        "model_multiple = LinearRegression()\n",
        "model_multiple.fit(X_train, y_train)\n",
        "y_pred_multiple = model_multiple.predict(X_test)\n",
        "r2_multiple = r2_score(y_test, y_pred_multiple)\n",
        "print(f\"Multiple Linear Regression: {r2_multiple}\")\n"
      ]
    }
  ]
}