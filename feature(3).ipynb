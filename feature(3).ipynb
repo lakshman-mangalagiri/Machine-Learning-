{
  "nbformat": 4,
  "nbformat_minor": 0,
  "metadata": {
    "colab": {
      "provenance": []
    },
    "kernelspec": {
      "name": "python3",
      "display_name": "Python 3"
    },
    "language_info": {
      "name": "python"
    }
  },
  "cells": [
    {
      "cell_type": "code",
      "execution_count": 1,
      "metadata": {
        "colab": {
          "base_uri": "https://localhost:8080/"
        },
        "id": "3hYAVxoZ-UVO",
        "outputId": "f7e72eba-3bcd-4421-a7c1-0672c6cbcb9a"
      },
      "outputs": [
        {
          "output_type": "stream",
          "name": "stdout",
          "text": [
            "1.25\n"
          ]
        }
      ],
      "source": [
        "import numpy as np\n",
        "\n",
        "def compute_correlation(x, y):\n",
        "  covariance = np.cov(x, y)[0, 1]\n",
        "  variance_x = np.var(x)\n",
        "  variance_y = np.var(y)\n",
        "  correlation = covariance / np.sqrt(variance_x * variance_y)\n",
        "  return correlation\n",
        "\n",
        "x = np.array([1, 2, 3, 4, 5])\n",
        "y = np.array([2, 4, 6, 8, 10])\n",
        "\n",
        "correlation = compute_correlation(x, y)\n",
        "print(correlation)"
      ]
    }
  ]
}