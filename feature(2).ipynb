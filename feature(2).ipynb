{
  "nbformat": 4,
  "nbformat_minor": 0,
  "metadata": {
    "colab": {
      "provenance": []
    },
    "kernelspec": {
      "name": "python3",
      "display_name": "Python 3"
    },
    "language_info": {
      "name": "python"
    }
  },
  "cells": [
    {
      "cell_type": "code",
      "execution_count": 5,
      "metadata": {
        "colab": {
          "base_uri": "https://localhost:8080/"
        },
        "id": "L8h9yiMT8o5i",
        "outputId": "0dfc39aa-84b1-47b8-8940-9c8e80ae9b0f"
      },
      "outputs": [
        {
          "output_type": "stream",
          "name": "stdout",
          "text": [
            "5.0\n"
          ]
        }
      ],
      "source": [
        "import numpy as np\n",
        "\n",
        "def compute_covariance(x, y):\n",
        "  if len(x) != len(y):\n",
        "    raise ValueError(\"Vectors must have the same length.\")\n",
        "\n",
        "  x_mean = np.mean(x)\n",
        "  y_mean = np.mean(y)\n",
        "\n",
        "  covariance = np.sum((x - x_mean) * (y - y_mean)) / (len(x) - 1)\n",
        "\n",
        "  return covariance\n",
        "\n",
        "x = np.array([1, 2, 3, 4, 5])\n",
        "y = np.array([2, 4, 6, 8, 10])\n",
        "\n",
        "covariance = compute_covariance(x, y)\n",
        "print(covariance)\n"
      ]
    }
  ]
}