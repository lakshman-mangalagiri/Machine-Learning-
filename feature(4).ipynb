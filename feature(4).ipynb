{
  "nbformat": 4,
  "nbformat_minor": 0,
  "metadata": {
    "colab": {
      "provenance": []
    },
    "kernelspec": {
      "name": "python3",
      "display_name": "Python 3"
    },
    "language_info": {
      "name": "python"
    }
  },
  "cells": [
    {
      "cell_type": "code",
      "execution_count": 1,
      "metadata": {
        "colab": {
          "base_uri": "https://localhost:8080/"
        },
        "id": "7dh7uG2B-7eJ",
        "outputId": "545e6d11-6a4d-4509-865f-9b1b805ef998"
      },
      "outputs": [
        {
          "output_type": "stream",
          "name": "stdout",
          "text": [
            "[[ 1.58947758  0.22543224 -0.94146372 -0.47670936  0.06309526]\n",
            " [ 0.22543224  0.19789902 -0.04994569  0.01577299 -0.01918746]\n",
            " [-0.94146372 -0.04994569  1.30074977  0.27302402 -0.07001637]\n",
            " [-0.47670936  0.01577299  0.27302402  1.00213236 -0.23249097]\n",
            " [ 0.06309526 -0.01918746 -0.07001637 -0.23249097  0.43528814]]\n",
            "[[ 1.          0.40194534 -0.65475603 -0.37771474  0.07585446]\n",
            " [ 0.40194534  1.         -0.09844175  0.03541845 -0.06537432]\n",
            " [-0.65475603 -0.09844175  1.          0.23913406 -0.09304955]\n",
            " [-0.37771474  0.03541845  0.23913406  1.         -0.35201011]\n",
            " [ 0.07585446 -0.06537432 -0.09304955 -0.35201011  1.        ]]\n"
          ]
        }
      ],
      "source": [
        "import numpy as np\n",
        "\n",
        "M = 5\n",
        "N = 10\n",
        "X = np.random.randn(M, N)\n",
        "\n",
        "covariance_matrix = np.cov(X)\n",
        "correlation_matrix = np.corrcoef(X)\n",
        "\n",
        "print(covariance_matrix)\n",
        "print(correlation_matrix)"
      ]
    }
  ]
}