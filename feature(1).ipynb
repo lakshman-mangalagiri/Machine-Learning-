{
  "nbformat": 4,
  "nbformat_minor": 0,
  "metadata": {
    "colab": {
      "provenance": []
    },
    "kernelspec": {
      "name": "python3",
      "display_name": "Python 3"
    },
    "language_info": {
      "name": "python"
    }
  },
  "cells": [
    {
      "cell_type": "code",
      "execution_count": 3,
      "metadata": {
        "colab": {
          "base_uri": "https://localhost:8080/"
        },
        "id": "IGsmb-aP7AtQ",
        "outputId": "bed25d35-5385-4f80-ca35-710b7c356281"
      },
      "outputs": [
        {
          "output_type": "stream",
          "name": "stdout",
          "text": [
            "Mean value is: 40.0\n",
            "Variance value is: 250.0\n"
          ]
        }
      ],
      "source": [
        "import numpy as np\n",
        "\n",
        "def calculate_m_and_v(data):\n",
        "  m =np.mean(data)\n",
        "  v =np.var(data,ddof=1)\n",
        "  return m,v\n",
        "\n",
        "data =np.array([20,30,40,50,60])\n",
        "m,v =calculate_m_and_v(data)\n",
        "print(\"Mean value is:\",m)\n",
        "print(\"Variance value is:\",v)\n",
        "\n"
      ]
    },
    {
      "cell_type": "code",
      "source": [],
      "metadata": {
        "id": "YBMIK-B78gND"
      },
      "execution_count": null,
      "outputs": []
    }
  ]
}